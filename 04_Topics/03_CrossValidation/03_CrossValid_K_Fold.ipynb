{
 "cells": [
  {
   "attachments": {},
   "cell_type": "markdown",
   "metadata": {},
   "source": [
    "# Cross Validation - K-Fold\n",
    "\n",
    "\n",
    "- cross_val_score(): \n",
    "  - split the data into folds AND  \n",
    "  - train the model  AND \n",
    "  - Get Score (accuracy) for each fold"
   ]
  },
  {
   "cell_type": "code",
   "execution_count": 7,
   "metadata": {},
   "outputs": [],
   "source": [
    "import pandas as pd \n",
    "\n",
    "from sklearn.datasets import load_digits\n",
    "import matplotlib.pyplot as plt \n",
    "\n",
    "from sklearn.model_selection import train_test_split \n",
    "from sklearn.metrics import confusion_matrix \n",
    "import seaborn as sn \n",
    "\n",
    "\n",
    "from sklearn.ensemble import RandomForestClassifier\n",
    "\n",
    "from sklearn.model_selection import cross_val_score\n",
    "\n",
    "import numpy as np"
   ]
  },
  {
   "attachments": {},
   "cell_type": "markdown",
   "metadata": {},
   "source": [
    "# Load Data"
   ]
  },
  {
   "cell_type": "code",
   "execution_count": 4,
   "metadata": {},
   "outputs": [],
   "source": [
    "digits = load_digits()   # 8x8 pixels"
   ]
  },
  {
   "attachments": {},
   "cell_type": "markdown",
   "metadata": {},
   "source": [
    "# Build The model"
   ]
  },
  {
   "cell_type": "code",
   "execution_count": 5,
   "metadata": {},
   "outputs": [],
   "source": [
    "NUM_OF_CROSS_VALIDATION = 10"
   ]
  },
  {
   "cell_type": "code",
   "execution_count": 6,
   "metadata": {},
   "outputs": [
    {
     "name": "stdout",
     "output_type": "stream",
     "text": [
      "[0.90555556 0.96666667 0.94444444 0.92222222 0.95555556 0.97222222\n",
      " 0.97777778 0.96648045 0.93296089 0.9273743 ]\n"
     ]
    }
   ],
   "source": [
    "model = RandomForestClassifier(n_estimators = 20)\n",
    "\n",
    "\n",
    "# Get 10x Scores for all folds\n",
    "print(cross_val_score(model, digits.data, digits.target, cv = NUM_OF_CROSS_VALIDATION))"
   ]
  },
  {
   "attachments": {},
   "cell_type": "markdown",
   "metadata": {},
   "source": [
    "# Try Several Model Hyper Parameter with 10x Folds"
   ]
  },
  {
   "cell_type": "code",
   "execution_count": 8,
   "metadata": {},
   "outputs": [],
   "source": [
    "score20 = cross_val_score(RandomForestClassifier(n_estimators = 20), digits.data, digits.target, cv = NUM_OF_CROSS_VALIDATION)\n",
    "score50 = cross_val_score(RandomForestClassifier(n_estimators = 50), digits.data, digits.target, cv = NUM_OF_CROSS_VALIDATION)\n",
    "score100 = cross_val_score(RandomForestClassifier(n_estimators = 100), digits.data, digits.target, cv = NUM_OF_CROSS_VALIDATION)\n",
    "score200 = cross_val_score(RandomForestClassifier(n_estimators = 200), digits.data, digits.target, cv = NUM_OF_CROSS_VALIDATION)"
   ]
  },
  {
   "attachments": {},
   "cell_type": "markdown",
   "metadata": {},
   "source": [
    "#  Get the average Score for each Train Process"
   ]
  },
  {
   "cell_type": "code",
   "execution_count": 9,
   "metadata": {},
   "outputs": [
    {
     "name": "stdout",
     "output_type": "stream",
     "text": [
      "0.9337740533829919\n",
      "0.95268156424581\n",
      "0.9482371198013656\n",
      "0.9471322160148976\n"
     ]
    }
   ],
   "source": [
    "print(np.average(score20)) # 0.9337740533829919\n",
    "print(np.average(score50)) # 0.95268156424581   --> The best\n",
    "print(np.average(score100)) # 0.9482371198013656\n",
    "print(np.average(score200)) # 0.9471322160148976"
   ]
  },
  {
   "attachments": {},
   "cell_type": "markdown",
   "metadata": {},
   "source": [
    "# K-Fold Splitter\n",
    "\n",
    "- Splits only the data"
   ]
  },
  {
   "cell_type": "code",
   "execution_count": 11,
   "metadata": {},
   "outputs": [],
   "source": [
    "from sklearn.model_selection import KFold"
   ]
  },
  {
   "cell_type": "code",
   "execution_count": 12,
   "metadata": {},
   "outputs": [],
   "source": [
    "# Create a KFold Instance\n",
    "kfold = KFold(n_splits = 10, shuffle = True)\n",
    "\n",
    "# Create a model\n",
    "model = RandomForestClassifier(n_estimators = 20)\n",
    "\n",
    "\n",
    "# Train the model using folds and get the scores for each fold\n",
    "# Instead of giviing cv = 10 (hard coded), i give an instance of a K-Folder\n",
    "scores = cross_val_score(model, digits.data, digits.target, cv = kfold)\n"
   ]
  },
  {
   "cell_type": "code",
   "execution_count": 13,
   "metadata": {},
   "outputs": [
    {
     "name": "stdout",
     "output_type": "stream",
     "text": [
      "0.9437957790192426 0.02270820768895843\n"
     ]
    }
   ],
   "source": [
    "# Evaluate the mean and standard deviation of the scores\n",
    "print(scores.mean(), scores.std())"
   ]
  },
  {
   "attachments": {},
   "cell_type": "markdown",
   "metadata": {},
   "source": [
    "# Stratisfied K-Folder"
   ]
  },
  {
   "cell_type": "code",
   "execution_count": 14,
   "metadata": {},
   "outputs": [],
   "source": [
    "from sklearn.model_selection import StratifiedKFold"
   ]
  },
  {
   "cell_type": "code",
   "execution_count": 15,
   "metadata": {},
   "outputs": [],
   "source": [
    "stratisfiedkfold = StratifiedKFold(n_splits= 10, shuffle= True)\n",
    "\n",
    "\n",
    "\n",
    "# Create a model\n",
    "model = RandomForestClassifier(n_estimators = 20)\n",
    "\n",
    "\n",
    "# Train the model using folds and get the scores for each fold\n",
    "# Instead of giviing cv = 10 (hard coded), i give an instance of a K-Folder\n",
    "scores = cross_val_score(model, digits.data, digits.target, cv = stratisfiedkfold)\n"
   ]
  },
  {
   "cell_type": "code",
   "execution_count": 16,
   "metadata": {},
   "outputs": [
    {
     "name": "stdout",
     "output_type": "stream",
     "text": [
      "0.9671570453134699 0.010120221911398978\n"
     ]
    }
   ],
   "source": [
    "# Evaluate the mean and standard deviation of the scores\n",
    "print(scores.mean(), scores.std())"
   ]
  },
  {
   "attachments": {},
   "cell_type": "markdown",
   "metadata": {},
   "source": [
    "# RepeatedStratisfiedKFold\n",
    "\n",
    "Trains the model nx times with diffeerent randomization in each repition\n",
    "\n",
    "Required: \n",
    "- 10x folds , 5x repeats ---> 50x Training process "
   ]
  },
  {
   "cell_type": "code",
   "execution_count": 18,
   "metadata": {},
   "outputs": [],
   "source": [
    "from sklearn.model_selection import RepeatedStratifiedKFold"
   ]
  },
  {
   "cell_type": "code",
   "execution_count": 20,
   "metadata": {},
   "outputs": [],
   "source": [
    "repeatedstratisfiedkfold = RepeatedStratifiedKFold(n_splits= 10,n_repeats= 5)\n",
    "\n",
    "# Create a model\n",
    "model = RandomForestClassifier(n_estimators = 20)\n",
    "\n",
    "# Train the model using folds and get the scores for each fold\n",
    "# Instead of giviing cv = 10 (hard coded), i give an instance of a K-Folder\n",
    "scores = cross_val_score(model, digits.data, digits.target, cv = repeatedstratisfiedkfold)"
   ]
  },
  {
   "cell_type": "code",
   "execution_count": 21,
   "metadata": {},
   "outputs": [
    {
     "name": "stdout",
     "output_type": "stream",
     "text": [
      "0.9662793296089386 0.013071665148810923\n"
     ]
    }
   ],
   "source": [
    "# Evaluate the mean and standard deviation of the scores\n",
    "print(scores.mean(), scores.std())"
   ]
  }
 ],
 "metadata": {
  "kernelspec": {
   "display_name": "Python 3",
   "language": "python",
   "name": "python3"
  },
  "language_info": {
   "codemirror_mode": {
    "name": "ipython",
    "version": 3
   },
   "file_extension": ".py",
   "mimetype": "text/x-python",
   "name": "python",
   "nbconvert_exporter": "python",
   "pygments_lexer": "ipython3",
   "version": "3.10.8 (tags/v3.10.8:aaaf517, Oct 11 2022, 16:50:30) [MSC v.1933 64 bit (AMD64)]"
  },
  "orig_nbformat": 4,
  "vscode": {
   "interpreter": {
    "hash": "c6dc7db6e986e8b90ed4be5bee4794d9e1585055375cb0fe0f76777a0105364a"
   }
  }
 },
 "nbformat": 4,
 "nbformat_minor": 2
}
