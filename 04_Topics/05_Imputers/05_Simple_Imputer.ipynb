{
 "cells": [
  {
   "attachments": {},
   "cell_type": "markdown",
   "metadata": {},
   "source": [
    "# SimpleImputer \n",
    "\n",
    "Imputers are for filling the missing values\n",
    "\n",
    "- Simple Imputer : Numerical . mean, median\n",
    "-                  categorical : most_frequent"
   ]
  },
  {
   "cell_type": "code",
   "execution_count": 1,
   "metadata": {},
   "outputs": [],
   "source": [
    "import numpy as np \n",
    "\n",
    "from sklearn.impute import SimpleImputer"
   ]
  },
  {
   "attachments": {},
   "cell_type": "markdown",
   "metadata": {},
   "source": [
    "# For Numbers"
   ]
  },
  {
   "cell_type": "code",
   "execution_count": 3,
   "metadata": {},
   "outputs": [
    {
     "name": "stdout",
     "output_type": "stream",
     "text": [
      "[[6.5 2. ]\n",
      " [6.  4. ]\n",
      " [7.  6. ]]\n"
     ]
    }
   ],
   "source": [
    "# Create Simple Data\n",
    "X = [\n",
    "    [np.nan,  2],\n",
    "    [6  , np.nan],\n",
    "    [7 ,     6]\n",
    "]\n",
    "\n",
    "\n",
    "# Create an imputer\n",
    "imp = SimpleImputer(missing_values=  np.nan , strategy= \"mean\")\n",
    "\n",
    "print(imp.fit_transform(X))"
   ]
  },
  {
   "attachments": {},
   "cell_type": "markdown",
   "metadata": {},
   "source": [
    "# For Categorical"
   ]
  },
  {
   "cell_type": "code",
   "execution_count": 7,
   "metadata": {},
   "outputs": [
    {
     "name": "stdout",
     "output_type": "stream",
     "text": [
      "[['a' 'x']\n",
      " ['a' 'y']\n",
      " ['a' 'y']\n",
      " ['b' 'y']]\n"
     ]
    }
   ],
   "source": [
    "import pandas as pd \n",
    "\n",
    "# Create DataFrame\n",
    "df = pd.DataFrame(\n",
    "    [\n",
    "        [\"a\", \"x\"],\n",
    "        [np.nan, \"y\"],\n",
    "        [\"a\", np.nan],\n",
    "        [\"b\", \"y\"]\n",
    "        \n",
    "    ], dtype = \"category\")\n",
    "\n",
    "\n",
    "\n",
    "# Create the imputer\n",
    "imp = SimpleImputer(strategy = \"most_frequent\")\n",
    "\n",
    "print(imp.fit_transform(df))"
   ]
  }
 ],
 "metadata": {
  "kernelspec": {
   "display_name": "Python 3",
   "language": "python",
   "name": "python3"
  },
  "language_info": {
   "codemirror_mode": {
    "name": "ipython",
    "version": 3
   },
   "file_extension": ".py",
   "mimetype": "text/x-python",
   "name": "python",
   "nbconvert_exporter": "python",
   "pygments_lexer": "ipython3",
   "version": "3.11.0 (main, Oct 24 2022, 18:26:48) [MSC v.1933 64 bit (AMD64)]"
  },
  "orig_nbformat": 4,
  "vscode": {
   "interpreter": {
    "hash": "bc29800946e6c292c6b341ea3551f502d208365098dfaf544f85dc6b1a198870"
   }
  }
 },
 "nbformat": 4,
 "nbformat_minor": 2
}
